{
 "cells": [
  {
   "cell_type": "markdown",
   "metadata": {},
   "source": [
    "### **对数几率中的线性回归**\n",
    "\n",
    "（图文侵删）"
   ]
  },
  {
   "cell_type": "markdown",
   "metadata": {},
   "source": [
    "> #### 公式推导 https://zhuanlan.zhihu.com/p/44591359"
   ]
  },
  {
   "cell_type": "code",
   "execution_count": 28,
   "metadata": {
    "_cell_guid": "b1076dfc-b9ad-4769-8c92-a6c4dae69d19",
    "_uuid": "8f2839f25d086af736a60e9eeb907d3b93b6e0e5",
    "execution": {
     "iopub.execute_input": "2023-02-26T13:40:59.246831Z",
     "iopub.status.busy": "2023-02-26T13:40:59.246429Z",
     "iopub.status.idle": "2023-02-26T13:40:59.254035Z",
     "shell.execute_reply": "2023-02-26T13:40:59.252668Z",
     "shell.execute_reply.started": "2023-02-26T13:40:59.246794Z"
    }
   },
   "outputs": [],
   "source": [
    "import numpy as np # linear algebra\n",
    "import pandas as pd # data processing, CSV file I/O (e.g. pd.read_csv)\n",
    "\n",
    "from sklearn.model_selection import train_test_split\n",
    "from sklearn.datasets import load_digits\n",
    "from sklearn.linear_model import LogisticRegression"
   ]
  },
  {
   "cell_type": "code",
   "execution_count": 29,
   "metadata": {
    "execution": {
     "iopub.execute_input": "2023-02-26T13:40:59.257341Z",
     "iopub.status.busy": "2023-02-26T13:40:59.256297Z",
     "iopub.status.idle": "2023-02-26T13:40:59.267794Z",
     "shell.execute_reply": "2023-02-26T13:40:59.266637Z",
     "shell.execute_reply.started": "2023-02-26T13:40:59.257291Z"
    }
   },
   "outputs": [],
   "source": [
    "# data\n",
    "X_train = [[0, 0, 0], [0, 1, 0],[1, 0, 0], [1, 1, 0], [0, 0, 1], [0, 1, 1],[1, 0, 1], [1, 1, 1]]\n",
    "y_train = [0, 0, 0, 0, 1, 1, 1, 1]\n",
    "X_test = [[2, 2, 0], [2, 2, 1], [0.15, 2, 0]]\n",
    "y_test = [0, 1, 0]"
   ]
  },
  {
   "cell_type": "code",
   "execution_count": 30,
   "metadata": {
    "execution": {
     "iopub.execute_input": "2023-02-26T13:40:59.270395Z",
     "iopub.status.busy": "2023-02-26T13:40:59.269119Z",
     "iopub.status.idle": "2023-02-26T13:40:59.286805Z",
     "shell.execute_reply": "2023-02-26T13:40:59.285599Z",
     "shell.execute_reply.started": "2023-02-26T13:40:59.270350Z"
    }
   },
   "outputs": [
    {
     "data": {
      "text/plain": [
       "1.0"
      ]
     },
     "execution_count": 30,
     "metadata": {},
     "output_type": "execute_result"
    }
   ],
   "source": [
    "LR = LogisticRegression(C=1.0, penalty='l1', tol=0.01, solver='liblinear')\n",
    "# X_train, X_test, y_train, y_test = train_test_split(X, y, test_size=0.33, random_state=42)\n",
    "LR.fit(X_train,y_train)\n",
    "LR.predict(X_test)\n",
    "LR.score(X_test,y_test)"
   ]
  },
  {
   "cell_type": "markdown",
   "metadata": {},
   "source": [
    "> #### 参数设置 https://blog.csdn.net/chole_fei/article/details/105090362"
   ]
  }
 ],
 "metadata": {
  "kernelspec": {
   "display_name": "Python 3 (ipykernel)",
   "language": "python",
   "name": "python3"
  },
  "language_info": {
   "codemirror_mode": {
    "name": "ipython",
    "version": 3
   },
   "file_extension": ".py",
   "mimetype": "text/x-python",
   "name": "python",
   "nbconvert_exporter": "python",
   "pygments_lexer": "ipython3",
   "version": "3.9.7"
  }
 },
 "nbformat": 4,
 "nbformat_minor": 4
}
