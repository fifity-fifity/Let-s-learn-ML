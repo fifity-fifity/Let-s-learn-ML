{
 "cells": [
  {
   "cell_type": "markdown",
   "metadata": {},
   "source": [
    "> ### **解决了分类器不好处理属性数据的问题**\n",
    "> ### **在一定程度上也起到了扩充特征的作用**"
   ]
  },
  {
   "cell_type": "markdown",
   "metadata": {},
   "source": [
    "#### $problem1. $ 离散特征的取值有大小的意义，比如 $size:[L,XL,XXL]$ ,那么就使用数值的映射即可"
   ]
  },
  {
   "cell_type": "code",
   "execution_count": 37,
   "metadata": {
    "execution": {
     "iopub.execute_input": "2023-02-27T14:03:49.341139Z",
     "iopub.status.busy": "2023-02-27T14:03:49.340672Z",
     "iopub.status.idle": "2023-02-27T14:03:49.352684Z",
     "shell.execute_reply": "2023-02-27T14:03:49.351073Z",
     "shell.execute_reply.started": "2023-02-27T14:03:49.341097Z"
    }
   },
   "outputs": [
    {
     "data": {
      "text/html": [
       "<div>\n",
       "<style scoped>\n",
       "    .dataframe tbody tr th:only-of-type {\n",
       "        vertical-align: middle;\n",
       "    }\n",
       "\n",
       "    .dataframe tbody tr th {\n",
       "        vertical-align: top;\n",
       "    }\n",
       "\n",
       "    .dataframe thead th {\n",
       "        text-align: right;\n",
       "    }\n",
       "</style>\n",
       "<table border=\"1\" class=\"dataframe\">\n",
       "  <thead>\n",
       "    <tr style=\"text-align: right;\">\n",
       "      <th></th>\n",
       "      <th>size</th>\n",
       "    </tr>\n",
       "  </thead>\n",
       "  <tbody>\n",
       "    <tr>\n",
       "      <th>0</th>\n",
       "      <td>L</td>\n",
       "    </tr>\n",
       "    <tr>\n",
       "      <th>1</th>\n",
       "      <td>XL</td>\n",
       "    </tr>\n",
       "    <tr>\n",
       "      <th>2</th>\n",
       "      <td>XXL</td>\n",
       "    </tr>\n",
       "    <tr>\n",
       "      <th>3</th>\n",
       "      <td>XXXL</td>\n",
       "    </tr>\n",
       "  </tbody>\n",
       "</table>\n",
       "</div>"
      ],
      "text/plain": [
       "   size\n",
       "0     L\n",
       "1    XL\n",
       "2   XXL\n",
       "3  XXXL"
      ]
     },
     "execution_count": 37,
     "metadata": {},
     "output_type": "execute_result"
    }
   ],
   "source": [
    "import pandas as pd\n",
    "data = pd.DataFrame({'size': ['L', 'XL', 'XXL', 'XXXL']})\n",
    "data"
   ]
  },
  {
   "cell_type": "code",
   "execution_count": 38,
   "metadata": {
    "execution": {
     "iopub.execute_input": "2023-02-27T14:03:49.356405Z",
     "iopub.status.busy": "2023-02-27T14:03:49.355937Z",
     "iopub.status.idle": "2023-02-27T14:03:49.375113Z",
     "shell.execute_reply": "2023-02-27T14:03:49.373480Z",
     "shell.execute_reply.started": "2023-02-27T14:03:49.356367Z"
    }
   },
   "outputs": [
    {
     "data": {
      "text/html": [
       "<div>\n",
       "<style scoped>\n",
       "    .dataframe tbody tr th:only-of-type {\n",
       "        vertical-align: middle;\n",
       "    }\n",
       "\n",
       "    .dataframe tbody tr th {\n",
       "        vertical-align: top;\n",
       "    }\n",
       "\n",
       "    .dataframe thead th {\n",
       "        text-align: right;\n",
       "    }\n",
       "</style>\n",
       "<table border=\"1\" class=\"dataframe\">\n",
       "  <thead>\n",
       "    <tr style=\"text-align: right;\">\n",
       "      <th></th>\n",
       "      <th>size</th>\n",
       "    </tr>\n",
       "  </thead>\n",
       "  <tbody>\n",
       "    <tr>\n",
       "      <th>0</th>\n",
       "      <td>1</td>\n",
       "    </tr>\n",
       "    <tr>\n",
       "      <th>1</th>\n",
       "      <td>2</td>\n",
       "    </tr>\n",
       "    <tr>\n",
       "      <th>2</th>\n",
       "      <td>3</td>\n",
       "    </tr>\n",
       "    <tr>\n",
       "      <th>3</th>\n",
       "      <td>4</td>\n",
       "    </tr>\n",
       "  </tbody>\n",
       "</table>\n",
       "</div>"
      ],
      "text/plain": [
       "   size\n",
       "0     1\n",
       "1     2\n",
       "2     3\n",
       "3     4"
      ]
     },
     "execution_count": 38,
     "metadata": {},
     "output_type": "execute_result"
    }
   ],
   "source": [
    "size_map = {\n",
    "    'L': 1,\n",
    "    'XL': 2,\n",
    "    'XXL': 3,\n",
    "    'XXXL': 4\n",
    "}\n",
    "data['size'] = data['size'].map(size_map)\n",
    "data"
   ]
  },
  {
   "cell_type": "markdown",
   "metadata": {},
   "source": [
    "#### $problem2. $ 离散特征的取值之间没有大小的意义，比如$color：[red,blue]$,那么就使用$one$-$hot$编码"
   ]
  },
  {
   "cell_type": "markdown",
   "metadata": {},
   "source": [
    "考虑如下问题： 对于离散型属性$[\"from Europe\", \"from US\", \"from Asia\"]$， 如果编码成0， 1， 2， 会导致距离失衡*(喂给机器学习后在映射空间下)*，例如$\"from Europe\"$与$\"from US\"$相对$\"from Europe\"$与$\"from Asia\"$更近，但实际上三种变量距离应该相等.\\\n",
    "**故引出独热编码**"
   ]
  },
  {
   "cell_type": "markdown",
   "metadata": {},
   "source": [
    "例如有如下三种离散变量\n",
    " - 性别：[“男”，“女”]\n",
    " - 年级：[“初一”，“初二”，“初三”]\n",
    " - 学校：[“一中”，“二中”，“三中”，“四中”]\\\n",
    "在独热编码映射下：\n",
    " - 男：$10$\n",
    " - 女：$01$\n",
    " - 初一：$100$  \n",
    " - 初二：$010$\n",
    " - 初三：$001$\n",
    " - 一中：$1000$\n",
    " - 二中：$0100$\n",
    " - 三中：$0010$\n",
    " - 四中：$0001$\\\n",
    " 最后将三种变量拼接起来， 例如一样本为“男生，初一，来自二中”\\\n",
    " 则映射为：  $[1 0 1 0 0 0 1 0 0] $\n",
    " "
   ]
  },
  {
   "cell_type": "markdown",
   "metadata": {},
   "source": [
    "---\n",
    "> #### 方法一、 pandas get_dummies"
   ]
  },
  {
   "cell_type": "code",
   "execution_count": 39,
   "metadata": {
    "execution": {
     "iopub.execute_input": "2023-02-27T14:03:49.377619Z",
     "iopub.status.busy": "2023-02-27T14:03:49.376995Z",
     "iopub.status.idle": "2023-02-27T14:03:49.398996Z",
     "shell.execute_reply": "2023-02-27T14:03:49.397712Z",
     "shell.execute_reply.started": "2023-02-27T14:03:49.377581Z"
    }
   },
   "outputs": [
    {
     "data": {
      "text/html": [
       "<div>\n",
       "<style scoped>\n",
       "    .dataframe tbody tr th:only-of-type {\n",
       "        vertical-align: middle;\n",
       "    }\n",
       "\n",
       "    .dataframe tbody tr th {\n",
       "        vertical-align: top;\n",
       "    }\n",
       "\n",
       "    .dataframe thead th {\n",
       "        text-align: right;\n",
       "    }\n",
       "</style>\n",
       "<table border=\"1\" class=\"dataframe\">\n",
       "  <thead>\n",
       "    <tr style=\"text-align: right;\">\n",
       "      <th></th>\n",
       "      <th>size</th>\n",
       "      <th>gender</th>\n",
       "    </tr>\n",
       "  </thead>\n",
       "  <tbody>\n",
       "    <tr>\n",
       "      <th>0</th>\n",
       "      <td>L</td>\n",
       "      <td>m</td>\n",
       "    </tr>\n",
       "    <tr>\n",
       "      <th>1</th>\n",
       "      <td>XL</td>\n",
       "      <td>f</td>\n",
       "    </tr>\n",
       "    <tr>\n",
       "      <th>2</th>\n",
       "      <td>XXL</td>\n",
       "      <td>m</td>\n",
       "    </tr>\n",
       "    <tr>\n",
       "      <th>3</th>\n",
       "      <td>XXXL</td>\n",
       "      <td>f</td>\n",
       "    </tr>\n",
       "    <tr>\n",
       "      <th>4</th>\n",
       "      <td>XXXXL</td>\n",
       "      <td>m</td>\n",
       "    </tr>\n",
       "    <tr>\n",
       "      <th>5</th>\n",
       "      <td>XXXXXL</td>\n",
       "      <td>n</td>\n",
       "    </tr>\n",
       "  </tbody>\n",
       "</table>\n",
       "</div>"
      ],
      "text/plain": [
       "     size gender\n",
       "0       L      m\n",
       "1      XL      f\n",
       "2     XXL      m\n",
       "3    XXXL      f\n",
       "4   XXXXL      m\n",
       "5  XXXXXL      n"
      ]
     },
     "execution_count": 39,
     "metadata": {},
     "output_type": "execute_result"
    }
   ],
   "source": [
    "# All arrays must be of the same length\n",
    "# size-> 6  |  gender-> 3\n",
    "\n",
    "data = pd.DataFrame({'size': ['L', 'XL', 'XXL', 'XXXL', 'XXXXL', 'XXXXXL'],\n",
    "                     'gender':['m','f','m','f','m','n']\n",
    "                    })\n",
    "data"
   ]
  },
  {
   "cell_type": "code",
   "execution_count": 40,
   "metadata": {
    "execution": {
     "iopub.execute_input": "2023-02-27T14:03:49.402793Z",
     "iopub.status.busy": "2023-02-27T14:03:49.402230Z",
     "iopub.status.idle": "2023-02-27T14:03:49.420887Z",
     "shell.execute_reply": "2023-02-27T14:03:49.418772Z",
     "shell.execute_reply.started": "2023-02-27T14:03:49.402741Z"
    }
   },
   "outputs": [
    {
     "data": {
      "text/html": [
       "<div>\n",
       "<style scoped>\n",
       "    .dataframe tbody tr th:only-of-type {\n",
       "        vertical-align: middle;\n",
       "    }\n",
       "\n",
       "    .dataframe tbody tr th {\n",
       "        vertical-align: top;\n",
       "    }\n",
       "\n",
       "    .dataframe thead th {\n",
       "        text-align: right;\n",
       "    }\n",
       "</style>\n",
       "<table border=\"1\" class=\"dataframe\">\n",
       "  <thead>\n",
       "    <tr style=\"text-align: right;\">\n",
       "      <th></th>\n",
       "      <th>size_L</th>\n",
       "      <th>size_XL</th>\n",
       "      <th>size_XXL</th>\n",
       "      <th>size_XXXL</th>\n",
       "      <th>size_XXXXL</th>\n",
       "      <th>size_XXXXXL</th>\n",
       "      <th>gender_f</th>\n",
       "      <th>gender_m</th>\n",
       "      <th>gender_n</th>\n",
       "    </tr>\n",
       "  </thead>\n",
       "  <tbody>\n",
       "    <tr>\n",
       "      <th>0</th>\n",
       "      <td>1</td>\n",
       "      <td>0</td>\n",
       "      <td>0</td>\n",
       "      <td>0</td>\n",
       "      <td>0</td>\n",
       "      <td>0</td>\n",
       "      <td>0</td>\n",
       "      <td>1</td>\n",
       "      <td>0</td>\n",
       "    </tr>\n",
       "    <tr>\n",
       "      <th>1</th>\n",
       "      <td>0</td>\n",
       "      <td>1</td>\n",
       "      <td>0</td>\n",
       "      <td>0</td>\n",
       "      <td>0</td>\n",
       "      <td>0</td>\n",
       "      <td>1</td>\n",
       "      <td>0</td>\n",
       "      <td>0</td>\n",
       "    </tr>\n",
       "    <tr>\n",
       "      <th>2</th>\n",
       "      <td>0</td>\n",
       "      <td>0</td>\n",
       "      <td>1</td>\n",
       "      <td>0</td>\n",
       "      <td>0</td>\n",
       "      <td>0</td>\n",
       "      <td>0</td>\n",
       "      <td>1</td>\n",
       "      <td>0</td>\n",
       "    </tr>\n",
       "    <tr>\n",
       "      <th>3</th>\n",
       "      <td>0</td>\n",
       "      <td>0</td>\n",
       "      <td>0</td>\n",
       "      <td>1</td>\n",
       "      <td>0</td>\n",
       "      <td>0</td>\n",
       "      <td>1</td>\n",
       "      <td>0</td>\n",
       "      <td>0</td>\n",
       "    </tr>\n",
       "    <tr>\n",
       "      <th>4</th>\n",
       "      <td>0</td>\n",
       "      <td>0</td>\n",
       "      <td>0</td>\n",
       "      <td>0</td>\n",
       "      <td>1</td>\n",
       "      <td>0</td>\n",
       "      <td>0</td>\n",
       "      <td>1</td>\n",
       "      <td>0</td>\n",
       "    </tr>\n",
       "    <tr>\n",
       "      <th>5</th>\n",
       "      <td>0</td>\n",
       "      <td>0</td>\n",
       "      <td>0</td>\n",
       "      <td>0</td>\n",
       "      <td>0</td>\n",
       "      <td>1</td>\n",
       "      <td>0</td>\n",
       "      <td>0</td>\n",
       "      <td>1</td>\n",
       "    </tr>\n",
       "  </tbody>\n",
       "</table>\n",
       "</div>"
      ],
      "text/plain": [
       "   size_L  size_XL  size_XXL  size_XXXL  size_XXXXL  size_XXXXXL  gender_f  \\\n",
       "0       1        0         0          0           0            0         0   \n",
       "1       0        1         0          0           0            0         1   \n",
       "2       0        0         1          0           0            0         0   \n",
       "3       0        0         0          1           0            0         1   \n",
       "4       0        0         0          0           1            0         0   \n",
       "5       0        0         0          0           0            1         0   \n",
       "\n",
       "   gender_m  gender_n  \n",
       "0         1         0  \n",
       "1         0         0  \n",
       "2         1         0  \n",
       "3         0         0  \n",
       "4         1         0  \n",
       "5         0         1  "
      ]
     },
     "execution_count": 40,
     "metadata": {},
     "output_type": "execute_result"
    }
   ],
   "source": [
    "# 若DataFrame中有数值型特征(columns)，数值型column则保留原始值\n",
    "data_onehot = pd.get_dummies(data)\n",
    "data_onehot # 拿转换后的数组喂给机器学习"
   ]
  },
  {
   "cell_type": "markdown",
   "metadata": {},
   "source": [
    "---\n",
    "> #### 方法二、 sklearn OneHotEncoder"
   ]
  },
  {
   "cell_type": "code",
   "execution_count": 41,
   "metadata": {
    "execution": {
     "iopub.execute_input": "2023-02-27T14:03:49.423939Z",
     "iopub.status.busy": "2023-02-27T14:03:49.423225Z",
     "iopub.status.idle": "2023-02-27T14:03:49.436168Z",
     "shell.execute_reply": "2023-02-27T14:03:49.434966Z",
     "shell.execute_reply.started": "2023-02-27T14:03:49.423893Z"
    }
   },
   "outputs": [
    {
     "data": {
      "text/html": [
       "<div>\n",
       "<style scoped>\n",
       "    .dataframe tbody tr th:only-of-type {\n",
       "        vertical-align: middle;\n",
       "    }\n",
       "\n",
       "    .dataframe tbody tr th {\n",
       "        vertical-align: top;\n",
       "    }\n",
       "\n",
       "    .dataframe thead th {\n",
       "        text-align: right;\n",
       "    }\n",
       "</style>\n",
       "<table border=\"1\" class=\"dataframe\">\n",
       "  <thead>\n",
       "    <tr style=\"text-align: right;\">\n",
       "      <th></th>\n",
       "      <th>size</th>\n",
       "      <th>gender</th>\n",
       "    </tr>\n",
       "  </thead>\n",
       "  <tbody>\n",
       "    <tr>\n",
       "      <th>0</th>\n",
       "      <td>L</td>\n",
       "      <td>m</td>\n",
       "    </tr>\n",
       "    <tr>\n",
       "      <th>1</th>\n",
       "      <td>XL</td>\n",
       "      <td>f</td>\n",
       "    </tr>\n",
       "    <tr>\n",
       "      <th>2</th>\n",
       "      <td>XXL</td>\n",
       "      <td>m</td>\n",
       "    </tr>\n",
       "    <tr>\n",
       "      <th>3</th>\n",
       "      <td>XXXL</td>\n",
       "      <td>f</td>\n",
       "    </tr>\n",
       "    <tr>\n",
       "      <th>4</th>\n",
       "      <td>XXXXL</td>\n",
       "      <td>m</td>\n",
       "    </tr>\n",
       "    <tr>\n",
       "      <th>5</th>\n",
       "      <td>XXXXXL</td>\n",
       "      <td>n</td>\n",
       "    </tr>\n",
       "  </tbody>\n",
       "</table>\n",
       "</div>"
      ],
      "text/plain": [
       "     size gender\n",
       "0       L      m\n",
       "1      XL      f\n",
       "2     XXL      m\n",
       "3    XXXL      f\n",
       "4   XXXXL      m\n",
       "5  XXXXXL      n"
      ]
     },
     "execution_count": 41,
     "metadata": {},
     "output_type": "execute_result"
    }
   ],
   "source": [
    "data = pd.DataFrame({'size': ['L', 'XL', 'XXL', 'XXXL', 'XXXXL', 'XXXXXL'],\n",
    "                     'gender':['m','f','m','f','m','n']\n",
    "                    })\n",
    "data"
   ]
  },
  {
   "cell_type": "code",
   "execution_count": 42,
   "metadata": {
    "execution": {
     "iopub.execute_input": "2023-02-27T14:03:49.438244Z",
     "iopub.status.busy": "2023-02-27T14:03:49.437910Z",
     "iopub.status.idle": "2023-02-27T14:03:49.453325Z",
     "shell.execute_reply": "2023-02-27T14:03:49.451038Z",
     "shell.execute_reply.started": "2023-02-27T14:03:49.438205Z"
    }
   },
   "outputs": [
    {
     "name": "stderr",
     "output_type": "stream",
     "text": [
      "/opt/conda/lib/python3.7/site-packages/sklearn/base.py:451: UserWarning: X does not have valid feature names, but OneHotEncoder was fitted with feature names\n",
      "  \"X does not have valid feature names, but\"\n"
     ]
    },
    {
     "data": {
      "text/plain": [
       "array([[0., 0., 0., 1., 0., 0., 0., 1., 0.],\n",
       "       [0., 1., 0., 0., 0., 0., 0., 1., 0.]])"
      ]
     },
     "execution_count": 42,
     "metadata": {},
     "output_type": "execute_result"
    }
   ],
   "source": [
    "from sklearn import preprocessing\n",
    "data_onehot = preprocessing.OneHotEncoder()\n",
    "data_onehot.fit(data)\n",
    "\n",
    "# 试一下转换效果\n",
    "person = [['XXXL', 'm'], ['XL', 'm']]\n",
    "onehot_person = data_onehot.transform(person).toarray()\n",
    "onehot_person"
   ]
  },
  {
   "cell_type": "markdown",
   "metadata": {},
   "source": [
    "#### 参考\n",
    "> https://www.cnblogs.com/zongfa/p/9305657.html \\\n",
    "> https://cloud.tencent.com/developer/article/1688022 \\\n",
    "> https://blog.csdn.net/Breathing_yang/article/details/93523822"
   ]
  }
 ],
 "metadata": {
  "kernelspec": {
   "display_name": "Python 3 (ipykernel)",
   "language": "python",
   "name": "python3"
  },
  "language_info": {
   "codemirror_mode": {
    "name": "ipython",
    "version": 3
   },
   "file_extension": ".py",
   "mimetype": "text/x-python",
   "name": "python",
   "nbconvert_exporter": "python",
   "pygments_lexer": "ipython3",
   "version": "3.9.7"
  }
 },
 "nbformat": 4,
 "nbformat_minor": 4
}
